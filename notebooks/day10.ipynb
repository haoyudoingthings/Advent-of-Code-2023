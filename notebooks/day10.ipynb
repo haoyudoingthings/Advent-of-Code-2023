{
 "cells": [
  {
   "cell_type": "markdown",
   "metadata": {},
   "source": [
    "Part 1"
   ]
  },
  {
   "cell_type": "code",
   "execution_count": 1,
   "metadata": {},
   "outputs": [
    {
     "data": {
      "text/plain": [
       "6714"
      ]
     },
     "execution_count": 1,
     "metadata": {},
     "output_type": "execute_result"
    }
   ],
   "source": [
    "with open(\"../input/day10.txt\") as f:\n",
    "    lines = [l.strip() for l in f.readlines()]\n",
    "\n",
    "m = len(lines)\n",
    "n = len(lines[0])\n",
    "\n",
    "for i, l in enumerate(lines):\n",
    "    j = l.find('S')\n",
    "    if j != -1:\n",
    "        si, sj = i, j\n",
    "        s_pos = [i, j]\n",
    "        break\n",
    "\n",
    "# directions are coded: 0123 -> NESW\n",
    "ns = [-1, 0, 1, 0]\n",
    "ew = [0, 1, 0, -1]\n",
    "\n",
    "pipes = {\n",
    "    '|': {0: 0, 2: 2},\n",
    "    '-': {1: 1, 3: 3},\n",
    "    'L': {3: 0, 2: 1},\n",
    "    'J': {2: 3, 1: 0},\n",
    "    '7': {1: 2, 0: 3},\n",
    "    'F': {0: 1, 3: 2}\n",
    "}\n",
    "\n",
    "# from examining the input\n",
    "inc = 2\n",
    "cur_i, cur_j = si+1, sj\n",
    "steps = 1\n",
    "while cur_i != si or cur_j != sj:\n",
    "    inc = pipes[lines[cur_i][cur_j]][inc]\n",
    "    cur_i += ns[inc]\n",
    "    cur_j += ew[inc]\n",
    "    steps += 1\n",
    "\n",
    "steps // 2"
   ]
  },
  {
   "cell_type": "markdown",
   "metadata": {},
   "source": [
    "Part 2"
   ]
  },
  {
   "cell_type": "code",
   "execution_count": 16,
   "metadata": {},
   "outputs": [
    {
     "data": {
      "text/plain": [
       "429"
      ]
     },
     "execution_count": 16,
     "metadata": {},
     "output_type": "execute_result"
    }
   ],
   "source": [
    "inc = 2\n",
    "cur_i, cur_j = si+1, sj\n",
    "area = ns[inc] * cur_j\n",
    "steps = 1\n",
    "while cur_i != si or cur_j != sj:\n",
    "    inc = pipes[lines[cur_i][cur_j]][inc]\n",
    "    cur_i += ns[inc]\n",
    "    cur_j += ew[inc]\n",
    "    area += ns[inc] * cur_j # a lil bit of Green's theorem\n",
    "    steps += 1\n",
    "\n",
    "# adjusted for boundary\n",
    "area - steps // 2 + 1"
   ]
  },
  {
   "cell_type": "code",
   "execution_count": null,
   "metadata": {},
   "outputs": [],
   "source": []
  }
 ],
 "metadata": {
  "kernelspec": {
   "display_name": "base",
   "language": "python",
   "name": "python3"
  },
  "language_info": {
   "codemirror_mode": {
    "name": "ipython",
    "version": 3
   },
   "file_extension": ".py",
   "mimetype": "text/x-python",
   "name": "python",
   "nbconvert_exporter": "python",
   "pygments_lexer": "ipython3",
   "version": "3.9.12"
  },
  "orig_nbformat": 4
 },
 "nbformat": 4,
 "nbformat_minor": 2
}
