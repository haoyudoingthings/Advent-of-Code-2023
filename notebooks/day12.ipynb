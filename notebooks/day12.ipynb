{
 "cells": [
  {
   "cell_type": "markdown",
   "metadata": {},
   "source": [
    "Part 1"
   ]
  },
  {
   "cell_type": "code",
   "execution_count": 1,
   "metadata": {},
   "outputs": [
    {
     "name": "stdout",
     "output_type": "stream",
     "text": [
      "['?????#?#?.?#?#.', '#??#?#.?.??????', '??#??????#???.?', '?.?..?..?????', '????????.?##????????', '?#??###?#????#?.', '???..????#', '?#??????#??.', '??.?????#??#?', '.?#?.###??.']\n",
      "[[7, 3], [6, 1, 5], [4, 3], [1, 4], [3, 1, 1, 4, 1, 1], [6, 2, 3], [1, 3, 1], [4, 2], [2, 1, 5], [1, 5]]\n"
     ]
    }
   ],
   "source": [
    "records = []\n",
    "group_sizes = []\n",
    "with open(\"../input/day12.txt\") as f:\n",
    "    for line in f.readlines():\n",
    "        records.append(line.strip().split(' ')[0])\n",
    "        group_sizes.append([int(x) for x in line.strip().split(' ')[1].split(',')])\n",
    "print(records[:10])\n",
    "print(group_sizes[:10])"
   ]
  },
  {
   "cell_type": "code",
   "execution_count": 3,
   "metadata": {},
   "outputs": [
    {
     "data": {
      "text/plain": [
       "(1000, 27132)"
      ]
     },
     "execution_count": 3,
     "metadata": {},
     "output_type": "execute_result"
    }
   ],
   "source": [
    "import math\n",
    "len(records), max([math.comb(r.count('?'), sum(g) - r.count('#')) for r, g in zip(records, group_sizes)])"
   ]
  },
  {
   "cell_type": "code",
   "execution_count": 11,
   "metadata": {},
   "outputs": [
    {
     "data": {
      "text/plain": [
       "7191"
      ]
     },
     "execution_count": 11,
     "metadata": {},
     "output_type": "execute_result"
    }
   ],
   "source": [
    "from itertools import combinations\n",
    "ans = 0\n",
    "for r, g in zip(records, group_sizes):\n",
    "    for dmg_pos in combinations(range(r.count('?')), sum(g) - r.count('#')):\n",
    "        q_ind = 0\n",
    "        g1 = [0]\n",
    "        for c in r:\n",
    "            if c == '#' or (c == '?' and q_ind in dmg_pos):\n",
    "                g1[-1] += 1\n",
    "            elif g1[-1] != 0:\n",
    "                g1.append(0)\n",
    "            if c == '?':\n",
    "                q_ind += 1\n",
    "        if g1[-1] == 0:\n",
    "            g1.pop()\n",
    "        if g == g1:\n",
    "            ans += 1\n",
    "ans"
   ]
  },
  {
   "cell_type": "markdown",
   "metadata": {},
   "source": [
    "Part 2"
   ]
  },
  {
   "cell_type": "code",
   "execution_count": null,
   "metadata": {},
   "outputs": [],
   "source": []
  }
 ],
 "metadata": {
  "kernelspec": {
   "display_name": "base",
   "language": "python",
   "name": "python3"
  },
  "language_info": {
   "codemirror_mode": {
    "name": "ipython",
    "version": 3
   },
   "file_extension": ".py",
   "mimetype": "text/x-python",
   "name": "python",
   "nbconvert_exporter": "python",
   "pygments_lexer": "ipython3",
   "version": "3.9.12"
  }
 },
 "nbformat": 4,
 "nbformat_minor": 2
}
