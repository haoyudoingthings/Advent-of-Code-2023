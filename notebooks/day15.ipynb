{
 "cells": [
  {
   "cell_type": "markdown",
   "metadata": {},
   "source": [
    "Part 1"
   ]
  },
  {
   "cell_type": "code",
   "execution_count": 2,
   "metadata": {},
   "outputs": [
    {
     "data": {
      "text/plain": [
       "'slvc=3,zgg=7,nvzbz=8,mdfh-,gp=3,hqk=9,dmmj=9,nrb=9,mdczr-,nt-,vdd-,smdjr-,zhr=2,kqxjp-,nqzc-,ngqz=2,'"
      ]
     },
     "execution_count": 2,
     "metadata": {},
     "output_type": "execute_result"
    }
   ],
   "source": [
    "with open(\"../input/day15.txt\") as f:\n",
    "    line = f.readline()\n",
    "line[:100]"
   ]
  },
  {
   "cell_type": "code",
   "execution_count": 3,
   "metadata": {},
   "outputs": [],
   "source": [
    "def HASH(s):\n",
    "    val = 0\n",
    "    for c in s:\n",
    "        val += ord(c)\n",
    "        val *= 17\n",
    "        val %= 256\n",
    "    return val"
   ]
  },
  {
   "cell_type": "code",
   "execution_count": 4,
   "metadata": {},
   "outputs": [
    {
     "data": {
      "text/plain": [
       "511498"
      ]
     },
     "execution_count": 4,
     "metadata": {},
     "output_type": "execute_result"
    }
   ],
   "source": [
    "sum([HASH(s) for s in line.split(',')])"
   ]
  },
  {
   "cell_type": "markdown",
   "metadata": {},
   "source": [
    "Part 2"
   ]
  },
  {
   "cell_type": "code",
   "execution_count": 7,
   "metadata": {},
   "outputs": [],
   "source": [
    "boxes = [[] for _ in range(256)]\n",
    "lensval = dict()\n",
    "for s in line.split(','):\n",
    "    if s[-1] == '-':\n",
    "        if s[:-1] in lensval:\n",
    "            i = boxes[HASH(s[:-1])].index(s[:-1])\n",
    "            boxes[HASH(s[:-1])].pop(i)\n",
    "            lensval.pop(s[:-1])\n",
    "    elif s[:-2] in lensval:\n",
    "        lensval[s[:-2]] = int(s[-1])\n",
    "    else:\n",
    "        boxes[HASH(s[:-2])].append(s[:-2])\n",
    "        lensval[s[:-2]] = int(s[-1])"
   ]
  },
  {
   "cell_type": "code",
   "execution_count": 8,
   "metadata": {},
   "outputs": [
    {
     "data": {
      "text/plain": [
       "284674"
      ]
     },
     "execution_count": 8,
     "metadata": {},
     "output_type": "execute_result"
    }
   ],
   "source": [
    "ans = 0\n",
    "for i, box in enumerate(boxes):\n",
    "    for j, lens in enumerate(box):\n",
    "        ans += (i+1) * (j+1) * lensval[lens]\n",
    "ans"
   ]
  },
  {
   "cell_type": "code",
   "execution_count": null,
   "metadata": {},
   "outputs": [],
   "source": []
  }
 ],
 "metadata": {
  "kernelspec": {
   "display_name": "base",
   "language": "python",
   "name": "python3"
  },
  "language_info": {
   "codemirror_mode": {
    "name": "ipython",
    "version": 3
   },
   "file_extension": ".py",
   "mimetype": "text/x-python",
   "name": "python",
   "nbconvert_exporter": "python",
   "pygments_lexer": "ipython3",
   "version": "3.9.12"
  },
  "orig_nbformat": 4
 },
 "nbformat": 4,
 "nbformat_minor": 2
}
