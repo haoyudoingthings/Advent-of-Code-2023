{
 "cells": [
  {
   "cell_type": "markdown",
   "metadata": {},
   "source": [
    "Part 1"
   ]
  },
  {
   "cell_type": "code",
   "execution_count": 1,
   "metadata": {},
   "outputs": [
    {
     "data": {
      "text/plain": [
       "4568778"
      ]
     },
     "execution_count": 1,
     "metadata": {},
     "output_type": "execute_result"
    }
   ],
   "source": [
    "time = [48, 98, 90, 83]\n",
    "dist = [390, 1103, 1112, 1360]\n",
    "\n",
    "ans = 1\n",
    "for i in range(4):\n",
    "    for t in range(1, time[i]):\n",
    "        d = t * (time[i] - t)\n",
    "        if d > dist[i]:\n",
    "            lowest_t = t\n",
    "            break\n",
    "    for t in range(time[i]-1, 0, -1):\n",
    "        d = t * (time[i] - t)\n",
    "        if d > dist[i]:\n",
    "            highest_t = t\n",
    "            break\n",
    "    ans *= highest_t - lowest_t + 1\n",
    "\n",
    "ans"
   ]
  },
  {
   "cell_type": "markdown",
   "metadata": {},
   "source": [
    "Part 2"
   ]
  },
  {
   "cell_type": "code",
   "execution_count": 3,
   "metadata": {},
   "outputs": [
    {
     "data": {
      "text/plain": [
       "28973936"
      ]
     },
     "execution_count": 3,
     "metadata": {},
     "output_type": "execute_result"
    }
   ],
   "source": [
    "time = 48989083\n",
    "dist = 390110311121360\n",
    "\n",
    "for t in range(1, time):\n",
    "    d = t * (time - t)\n",
    "    if d > dist:\n",
    "        lowest_t = t\n",
    "        break\n",
    "for t in range(time-1, 0, -1):\n",
    "    d = t * (time - t)\n",
    "    if d > dist:\n",
    "        highest_t = t\n",
    "        break\n",
    "\n",
    "highest_t - lowest_t + 1"
   ]
  },
  {
   "cell_type": "code",
   "execution_count": null,
   "metadata": {},
   "outputs": [],
   "source": []
  }
 ],
 "metadata": {
  "kernelspec": {
   "display_name": "base",
   "language": "python",
   "name": "python3"
  },
  "language_info": {
   "codemirror_mode": {
    "name": "ipython",
    "version": 3
   },
   "file_extension": ".py",
   "mimetype": "text/x-python",
   "name": "python",
   "nbconvert_exporter": "python",
   "pygments_lexer": "ipython3",
   "version": "3.9.12"
  },
  "orig_nbformat": 4
 },
 "nbformat": 4,
 "nbformat_minor": 2
}
