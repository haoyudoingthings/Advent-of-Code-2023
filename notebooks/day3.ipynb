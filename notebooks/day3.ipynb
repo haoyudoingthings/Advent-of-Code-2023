{
 "cells": [
  {
   "cell_type": "markdown",
   "metadata": {},
   "source": [
    "Part 1"
   ]
  },
  {
   "cell_type": "code",
   "execution_count": 3,
   "metadata": {},
   "outputs": [
    {
     "data": {
      "text/plain": [
       "521601"
      ]
     },
     "execution_count": 3,
     "metadata": {},
     "output_type": "execute_result"
    }
   ],
   "source": [
    "with open(\"../input/day3.txt\") as f:\n",
    "    lines = [l.strip() for l in f.readlines()]\n",
    "    sym_map = [[False] * 140 for _ in range(140)] \n",
    "    nums = []\n",
    "    start = -1\n",
    "    for i, line in enumerate(lines):\n",
    "        for j, c in enumerate(line):\n",
    "            if c not in \"0123456789.\":\n",
    "                sym_map[i][j] = True\n",
    "            if start == -1 and c in \"0123456789\":\n",
    "                start = j\n",
    "            elif start != -1 and c not in \"0123456789\":\n",
    "                nums.append((int(line[start: j]), i, start, j-1))\n",
    "                start = -1\n",
    "        if start != -1:\n",
    "            nums.append((int(line[start:]), i, start, 139))\n",
    "            start = -1\n",
    "    ans = 0\n",
    "    for num, i, start, end in nums:\n",
    "        if any(sym_map[i][start - (start > 0): end + (end < 139) + 1]):\n",
    "            ans += num\n",
    "            continue\n",
    "        if i > 0 and any(sym_map[i-1][start - (start > 0): end + (end < 139) + 1]):\n",
    "            ans += num\n",
    "            continue\n",
    "        if i < 139 and any(sym_map[i+1][start - (start > 0): end + (end < 139) + 1]):\n",
    "            ans += num\n",
    "            continue\n",
    "ans"
   ]
  },
  {
   "cell_type": "markdown",
   "metadata": {},
   "source": [
    "Part 2"
   ]
  },
  {
   "cell_type": "code",
   "execution_count": 6,
   "metadata": {},
   "outputs": [
    {
     "data": {
      "text/plain": [
       "80694070"
      ]
     },
     "execution_count": 6,
     "metadata": {},
     "output_type": "execute_result"
    }
   ],
   "source": [
    "with open(\"../input/day3.txt\") as f:\n",
    "    lines = [l.strip() for l in f.readlines()]\n",
    "    num_map = [[-1] * 140 for _ in range(140)]\n",
    "    gear_pos = []\n",
    "    start = -1\n",
    "    for i, line in enumerate(lines):\n",
    "        for j, c in enumerate(line):\n",
    "            if c == '*':\n",
    "                gear_pos.append((i, j))\n",
    "            if start == -1 and c in \"0123456789\":\n",
    "                start = j\n",
    "            elif start != -1 and c not in \"0123456789\":\n",
    "                num = int(line[start: j])\n",
    "                for col in range(start, j):\n",
    "                    num_map[i][col] = num\n",
    "                start = -1\n",
    "        if start != -1:\n",
    "            num = int(line[start:])\n",
    "            for col in range(start, 140):\n",
    "                num_map[i][col] = num\n",
    "            start = -1\n",
    "    \n",
    "    ans = 0\n",
    "    for i, j in gear_pos:\n",
    "        cur_nums = []\n",
    "        for a, b in [(i-1, j-1), (i-1, j), (i-1, j+1), (i, j-1), (i, j+1), (i+1, j-1), (i+1, j), (i+1, j+1)]:\n",
    "            if num_map[a][b] != -1 and num_map[a][b] not in cur_nums:\n",
    "                cur_nums.append(num_map[a][b])\n",
    "        if len(cur_nums) == 2:\n",
    "            ans += cur_nums[0] * cur_nums[1]\n",
    "ans"
   ]
  },
  {
   "cell_type": "code",
   "execution_count": null,
   "metadata": {},
   "outputs": [],
   "source": []
  }
 ],
 "metadata": {
  "kernelspec": {
   "display_name": "base",
   "language": "python",
   "name": "python3"
  },
  "language_info": {
   "codemirror_mode": {
    "name": "ipython",
    "version": 3
   },
   "file_extension": ".py",
   "mimetype": "text/x-python",
   "name": "python",
   "nbconvert_exporter": "python",
   "pygments_lexer": "ipython3",
   "version": "3.9.12"
  },
  "orig_nbformat": 4
 },
 "nbformat": 4,
 "nbformat_minor": 2
}
