{
 "cells": [
  {
   "cell_type": "markdown",
   "metadata": {},
   "source": [
    "Part 1"
   ]
  },
  {
   "cell_type": "code",
   "execution_count": 1,
   "metadata": {},
   "outputs": [],
   "source": [
    "with open(\"../input/day11.txt\") as f:\n",
    "    lines = [l.strip() for l in f.readlines()]\n",
    "\n",
    "m, n = len(lines), len(lines[0])\n",
    "g_pos = []\n",
    "for i in range(m):\n",
    "    for j in range(n):\n",
    "        if lines[i][j] == '#':\n",
    "            g_pos.append((i, j))\n",
    "\n",
    "row_num = [0] * m\n",
    "col_num = [0] * n\n",
    "for i, j in g_pos:\n",
    "    row_num[i] += 1\n",
    "    col_num[j] += 1"
   ]
  },
  {
   "cell_type": "code",
   "execution_count": 2,
   "metadata": {},
   "outputs": [
    {
     "data": {
      "text/plain": [
       "9742154"
      ]
     },
     "execution_count": 2,
     "metadata": {},
     "output_type": "execute_result"
    }
   ],
   "source": [
    "ans = 0\n",
    "\n",
    "for i, a in enumerate(row_num[:-1]):\n",
    "    if a == 0:\n",
    "        continue\n",
    "    emp_cnt = 0\n",
    "    for j, b in enumerate(row_num[i+1:]):\n",
    "        if b == 0:\n",
    "            emp_cnt += 1\n",
    "        else:\n",
    "            dist = j + 1 + emp_cnt\n",
    "            ans += a * b * dist\n",
    "\n",
    "for i, a in enumerate(col_num[:-1]):\n",
    "    if a == 0:\n",
    "        continue\n",
    "    emp_cnt = 0\n",
    "    for j, b in enumerate(col_num[i+1:]):\n",
    "        if b == 0:\n",
    "            emp_cnt += 1\n",
    "        else:\n",
    "            dist = j + 1 + emp_cnt\n",
    "            ans += a * b * dist\n",
    "\n",
    "ans"
   ]
  },
  {
   "cell_type": "markdown",
   "metadata": {},
   "source": [
    "Part 2"
   ]
  },
  {
   "cell_type": "code",
   "execution_count": 3,
   "metadata": {},
   "outputs": [
    {
     "data": {
      "text/plain": [
       "411142919886"
      ]
     },
     "execution_count": 3,
     "metadata": {},
     "output_type": "execute_result"
    }
   ],
   "source": [
    "ans = 0\n",
    "\n",
    "for i, a in enumerate(row_num[:-1]):\n",
    "    if a == 0:\n",
    "        continue\n",
    "    emp_cnt = 0\n",
    "    for j, b in enumerate(row_num[i+1:]):\n",
    "        if b == 0:\n",
    "            emp_cnt += 999_999\n",
    "        else:\n",
    "            dist = j + 1 + emp_cnt\n",
    "            ans += a * b * dist\n",
    "\n",
    "for i, a in enumerate(col_num[:-1]):\n",
    "    if a == 0:\n",
    "        continue\n",
    "    emp_cnt = 0\n",
    "    for j, b in enumerate(col_num[i+1:]):\n",
    "        if b == 0:\n",
    "            emp_cnt += 999_999\n",
    "        else:\n",
    "            dist = j + 1 + emp_cnt\n",
    "            ans += a * b * dist\n",
    "\n",
    "ans"
   ]
  },
  {
   "cell_type": "code",
   "execution_count": null,
   "metadata": {},
   "outputs": [],
   "source": []
  }
 ],
 "metadata": {
  "kernelspec": {
   "display_name": "base",
   "language": "python",
   "name": "python3"
  },
  "language_info": {
   "codemirror_mode": {
    "name": "ipython",
    "version": 3
   },
   "file_extension": ".py",
   "mimetype": "text/x-python",
   "name": "python",
   "nbconvert_exporter": "python",
   "pygments_lexer": "ipython3",
   "version": "3.9.12"
  },
  "orig_nbformat": 4
 },
 "nbformat": 4,
 "nbformat_minor": 2
}
