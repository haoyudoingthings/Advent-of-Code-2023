{
 "cells": [
  {
   "cell_type": "markdown",
   "metadata": {},
   "source": [
    "Part 1"
   ]
  },
  {
   "cell_type": "code",
   "execution_count": 6,
   "metadata": {},
   "outputs": [
    {
     "data": {
      "text/plain": [
       "103333"
      ]
     },
     "execution_count": 6,
     "metadata": {},
     "output_type": "execute_result"
    }
   ],
   "source": [
    "with open(\"../input/day14.txt\") as f:\n",
    "    platform = [line.strip() for line in f]\n",
    "\n",
    "m, n = len(platform), len(platform[0])\n",
    "bottom = [0] * n\n",
    "ans = 0\n",
    "for i, line in enumerate(platform):\n",
    "    for j, c in enumerate(line):\n",
    "        if c == '#':\n",
    "            bottom[j] = i + 1\n",
    "        elif c == 'O':\n",
    "            ans += m - bottom[j]\n",
    "            bottom[j] += 1\n",
    "ans"
   ]
  },
  {
   "cell_type": "markdown",
   "metadata": {},
   "source": [
    "Part 2"
   ]
  },
  {
   "cell_type": "code",
   "execution_count": 12,
   "metadata": {},
   "outputs": [],
   "source": [
    "def fill_right(platform):\n",
    "    for line in platform:\n",
    "        stone_cnt = 0\n",
    "        for i, c in enumerate(line):\n",
    "            if c == '#':\n",
    "                for stone_ind in range(i-1, i-stone_cnt-1, -1):\n",
    "                    line[stone_ind] = 'O'\n",
    "                stone_cnt = 0\n",
    "            elif c == 'O':\n",
    "                stone_cnt += 1\n",
    "                line[i] = '.'\n",
    "        for stone_ind in range(len(line)-1, len(line)-stone_cnt-1, -1):\n",
    "            line[stone_ind] = 'O'\n",
    "        stone_cnt = 0"
   ]
  },
  {
   "cell_type": "code",
   "execution_count": 24,
   "metadata": {},
   "outputs": [],
   "source": [
    "def clockwise_rotate(mat):\n",
    "    m, n = len(mat), len(mat[0])\n",
    "    return [[mat[i][j] for i in range(m-1, -1, -1)] for j in range(n)]"
   ]
  },
  {
   "cell_type": "code",
   "execution_count": 35,
   "metadata": {},
   "outputs": [],
   "source": [
    "def flatten(mat):\n",
    "    return \"\".join([\"\".join(l) for l in mat])"
   ]
  },
  {
   "cell_type": "code",
   "execution_count": 53,
   "metadata": {},
   "outputs": [],
   "source": [
    "with open(\"../input/day14.txt\") as f:\n",
    "    platform = [line.strip() for line in f]\n",
    "\n",
    "platform_lst = [list(line) for line in platform]"
   ]
  },
  {
   "cell_type": "code",
   "execution_count": 55,
   "metadata": {},
   "outputs": [
    {
     "data": {
      "text/plain": [
       "97241"
      ]
     },
     "execution_count": 55,
     "metadata": {},
     "output_type": "execute_result"
    }
   ],
   "source": [
    "platform_lst = [list(line) for line in platform]\n",
    "m, n = len(platform_lst), len(platform_lst[0])\n",
    "state_num = dict()\n",
    "rep = 1_000_000_000\n",
    "for r in range(rep+1):\n",
    "    s = flatten(platform_lst)\n",
    "    if s in state_num:\n",
    "        cycle_head = state_num[s]\n",
    "        period = r - cycle_head\n",
    "        break\n",
    "    else:\n",
    "        state_num[s] = r\n",
    "    for _ in range(4):\n",
    "        platform_lst = clockwise_rotate(platform_lst)\n",
    "        fill_right(platform_lst)\n",
    "\n",
    "num_at_rep = (rep - cycle_head) % period + cycle_head\n",
    "for state, num in state_num.items():\n",
    "    if num == num_at_rep:\n",
    "        ans = 0\n",
    "        for i, c in enumerate(state):\n",
    "            if c == 'O':\n",
    "                ans += m - (i // n)\n",
    "        break\n",
    "\n",
    "ans"
   ]
  },
  {
   "cell_type": "code",
   "execution_count": null,
   "metadata": {},
   "outputs": [],
   "source": []
  }
 ],
 "metadata": {
  "kernelspec": {
   "display_name": "base",
   "language": "python",
   "name": "python3"
  },
  "language_info": {
   "codemirror_mode": {
    "name": "ipython",
    "version": 3
   },
   "file_extension": ".py",
   "mimetype": "text/x-python",
   "name": "python",
   "nbconvert_exporter": "python",
   "pygments_lexer": "ipython3",
   "version": "3.9.12"
  },
  "orig_nbformat": 4
 },
 "nbformat": 4,
 "nbformat_minor": 2
}
