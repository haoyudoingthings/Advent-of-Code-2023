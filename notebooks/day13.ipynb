{
 "cells": [
  {
   "cell_type": "markdown",
   "metadata": {},
   "source": [
    "Part 1"
   ]
  },
  {
   "cell_type": "code",
   "execution_count": 36,
   "metadata": {},
   "outputs": [
    {
     "data": {
      "text/plain": [
       "27505"
      ]
     },
     "execution_count": 36,
     "metadata": {},
     "output_type": "execute_result"
    }
   ],
   "source": [
    "def find_reflection(pattern, skip=-1):\n",
    "    for i in range(len(pattern)-1):\n",
    "        j = 0\n",
    "        while i-j >= 0 and i+1+j < len(pattern):\n",
    "            if pattern[i-j] != pattern[i+1+j]:\n",
    "                break\n",
    "            j += 1\n",
    "        else:\n",
    "            if 100 * (i+1) != skip:\n",
    "                return 100 * (i+1)\n",
    "    for i in range(len(pattern[0])-1):\n",
    "        for l in pattern:\n",
    "            if l[max(0, 2*(i+1) - len(pattern[0])): i+1] != l[min(len(pattern[0]), 2*(i+1))-1: i: -1]:\n",
    "                break\n",
    "        else:\n",
    "            if i + 1 != skip:\n",
    "                return i + 1\n",
    "    return -1\n",
    "\n",
    "ans_lst = []\n",
    "pattern = []\n",
    "with open(\"../input/day13.txt\") as f:\n",
    "    for line in f:\n",
    "        line = line.strip()\n",
    "        if line:\n",
    "            pattern.append(line)\n",
    "        else:\n",
    "            ans_lst.append(find_reflection(pattern))\n",
    "            pattern = []\n",
    "sum(ans_lst)"
   ]
  },
  {
   "cell_type": "markdown",
   "metadata": {},
   "source": [
    "Part 2"
   ]
  },
  {
   "cell_type": "code",
   "execution_count": 38,
   "metadata": {},
   "outputs": [
    {
     "data": {
      "text/plain": [
       "22906"
      ]
     },
     "execution_count": 38,
     "metadata": {},
     "output_type": "execute_result"
    }
   ],
   "source": [
    "ans = 0\n",
    "pattern = []\n",
    "opp = {'#': '.', '.': '#'}\n",
    "ind = 0\n",
    "with open(\"../input/day13.txt\") as f:\n",
    "    for line in f:\n",
    "        line = line.strip()\n",
    "        if line:\n",
    "            pattern.append(line)\n",
    "        else:\n",
    "            brk_flg = False\n",
    "            for i in range(len(pattern)):\n",
    "                for j in range(len(pattern[0])):\n",
    "                    pattern[i] = pattern[i][:j] + opp[pattern[i][j]] + pattern[i][j+1:]\n",
    "                    a = find_reflection(pattern, ans_lst[ind])\n",
    "                    if a != -1 and a != ans_lst[ind]:\n",
    "                        ans += a\n",
    "                        brk_flg = True\n",
    "                        break\n",
    "                    pattern[i] = pattern[i][:j] + opp[pattern[i][j]] + pattern[i][j+1:]\n",
    "                if brk_flg:\n",
    "                    break\n",
    "            pattern = []\n",
    "            ind += 1\n",
    "ans"
   ]
  },
  {
   "cell_type": "code",
   "execution_count": null,
   "metadata": {},
   "outputs": [],
   "source": []
  }
 ],
 "metadata": {
  "kernelspec": {
   "display_name": "base",
   "language": "python",
   "name": "python3"
  },
  "language_info": {
   "codemirror_mode": {
    "name": "ipython",
    "version": 3
   },
   "file_extension": ".py",
   "mimetype": "text/x-python",
   "name": "python",
   "nbconvert_exporter": "python",
   "pygments_lexer": "ipython3",
   "version": "3.9.12"
  }
 },
 "nbformat": 4,
 "nbformat_minor": 2
}
