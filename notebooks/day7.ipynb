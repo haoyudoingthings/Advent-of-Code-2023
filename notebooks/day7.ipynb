{
 "cells": [
  {
   "cell_type": "code",
   "execution_count": 1,
   "metadata": {},
   "outputs": [],
   "source": [
    "from collections import defaultdict\n",
    "from functools import cmp_to_key"
   ]
  },
  {
   "cell_type": "markdown",
   "metadata": {},
   "source": [
    "Part 1"
   ]
  },
  {
   "cell_type": "code",
   "execution_count": 10,
   "metadata": {},
   "outputs": [
    {
     "data": {
      "text/plain": [
       "247961593"
      ]
     },
     "execution_count": 10,
     "metadata": {},
     "output_type": "execute_result"
    }
   ],
   "source": [
    "with open(\"../input/day7.txt\") as f:\n",
    "    lines = [l.strip().split() for l in f.readlines()]\n",
    "    handset = [(l[0], int(l[1])) for l in lines]\n",
    "\n",
    "hand_types = [[1, 1, 1, 1, 1], [1, 1, 1, 2], [1, 2, 2], [1, 1, 3], [2, 3], [1, 4], [5]]\n",
    "card_str = \"23456789TJQKA\"\n",
    "\n",
    "def comp(tup1, tup2):\n",
    "    hand1, val1 = tup1\n",
    "    hand2, val2 = tup2\n",
    "\n",
    "    hand1_cnt = defaultdict(int)\n",
    "    for c in hand1:\n",
    "        hand1_cnt[c] += 1\n",
    "    hand1_val = hand_types.index(sorted(hand1_cnt.values()))\n",
    "\n",
    "    hand2_cnt = defaultdict(int)\n",
    "    for c in hand2:\n",
    "        hand2_cnt[c] += 1\n",
    "    hand2_val = hand_types.index(sorted(hand2_cnt.values()))\n",
    "    \n",
    "    if hand1_val > hand2_val:\n",
    "        return 1\n",
    "    if hand1_val < hand2_val:\n",
    "        return -1\n",
    "    for c1, c2 in zip(hand1, hand2):\n",
    "        if card_str.index(c1) > card_str.index(c2):\n",
    "            return 1\n",
    "        if card_str.index(c1) < card_str.index(c2):\n",
    "            return -1\n",
    "    return 0\n",
    "\n",
    "handset.sort(key=cmp_to_key(comp))\n",
    "ans = 0\n",
    "for i, (hand, val) in enumerate(handset):\n",
    "    ans += (i+1) * val\n",
    "\n",
    "ans"
   ]
  },
  {
   "cell_type": "markdown",
   "metadata": {},
   "source": [
    "Part 2"
   ]
  },
  {
   "cell_type": "code",
   "execution_count": 13,
   "metadata": {},
   "outputs": [
    {
     "data": {
      "text/plain": [
       "248750699"
      ]
     },
     "execution_count": 13,
     "metadata": {},
     "output_type": "execute_result"
    }
   ],
   "source": [
    "with open(\"../input/day7.txt\") as f:\n",
    "    lines = [l.strip().split() for l in f.readlines()]\n",
    "    handset = [(l[0], int(l[1])) for l in lines]\n",
    "\n",
    "hand_types = [[1, 1, 1, 1, 1], [1, 1, 1, 2], [1, 2, 2], [1, 1, 3], [2, 3], [1, 4], [5]]\n",
    "card_str = \"J23456789TQKA\"\n",
    "\n",
    "def comp(tup1, tup2):\n",
    "    hand1, val1 = tup1\n",
    "    hand2, val2 = tup2\n",
    "\n",
    "    if hand1 == \"JJJJJ\":\n",
    "        hand1_val = 6\n",
    "    else:\n",
    "        hand1_cnt = defaultdict(int)\n",
    "        J1_cnt = 0\n",
    "        for c in hand1:\n",
    "            if c != 'J':\n",
    "                hand1_cnt[c] += 1\n",
    "            else:\n",
    "                J1_cnt += 1\n",
    "        hand1_type = sorted(hand1_cnt.values())\n",
    "        hand1_type[-1] += J1_cnt\n",
    "        hand1_val = hand_types.index(hand1_type)\n",
    "\n",
    "    if hand2 == \"JJJJJ\":\n",
    "        hand2_val = 6\n",
    "    else:\n",
    "        hand2_cnt = defaultdict(int)\n",
    "        J2_cnt = 0\n",
    "        for c in hand2:\n",
    "            if c != 'J':\n",
    "                hand2_cnt[c] += 1\n",
    "            else:\n",
    "                J2_cnt += 1\n",
    "        hand2_type = sorted(hand2_cnt.values())\n",
    "        hand2_type[-1] += J2_cnt\n",
    "        hand2_val = hand_types.index(hand2_type)\n",
    "    \n",
    "    if hand1_val > hand2_val:\n",
    "        return 1\n",
    "    if hand1_val < hand2_val:\n",
    "        return -1\n",
    "    for c1, c2 in zip(hand1, hand2):\n",
    "        if card_str.index(c1) > card_str.index(c2):\n",
    "            return 1\n",
    "        if card_str.index(c1) < card_str.index(c2):\n",
    "            return -1\n",
    "    return 0\n",
    "\n",
    "handset.sort(key=cmp_to_key(comp))\n",
    "ans = 0\n",
    "for i, (hand, val) in enumerate(handset):\n",
    "    ans += (i+1) * val\n",
    "\n",
    "ans"
   ]
  },
  {
   "cell_type": "code",
   "execution_count": null,
   "metadata": {},
   "outputs": [],
   "source": []
  }
 ],
 "metadata": {
  "kernelspec": {
   "display_name": "base",
   "language": "python",
   "name": "python3"
  },
  "language_info": {
   "codemirror_mode": {
    "name": "ipython",
    "version": 3
   },
   "file_extension": ".py",
   "mimetype": "text/x-python",
   "name": "python",
   "nbconvert_exporter": "python",
   "pygments_lexer": "ipython3",
   "version": "3.9.12"
  }
 },
 "nbformat": 4,
 "nbformat_minor": 2
}
