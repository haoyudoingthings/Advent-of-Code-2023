{
 "cells": [
  {
   "cell_type": "code",
   "execution_count": 1,
   "metadata": {},
   "outputs": [],
   "source": [
    "instructions = \"LRLRRRLRLLRRLRLRRRLRLRRLRRLLRLRRLRRLRRRLRRRLRLRRRLRLRRLRRLLRLRLLLLLRLRLRRLLRRRLLLRLLLRRLLLLLRLLLRLRRLRRLRRRLRRRLRRLRRLRRRLRLRLRRLRLRLRLRRLRRRLLRLLRRLRLRRRLRLRRRLRLRRRLRRRLRRLRLLLLRLRRRLRLRRLRLRRLRRLRRLLRRRLLLLLLRLRRRLRRLLRRRLRRLLLRLRLRLRRRLRRLRLRRRLRRLRRRLLRRLRRLLLRRRR\""
   ]
  },
  {
   "cell_type": "markdown",
   "metadata": {},
   "source": [
    "Part 1"
   ]
  },
  {
   "cell_type": "code",
   "execution_count": 2,
   "metadata": {},
   "outputs": [],
   "source": [
    "p = len(instructions)\n",
    "\n",
    "map_dict = dict()\n",
    "with open(\"../input/day8/map.txt\") as f:\n",
    "    for line in f.readlines():\n",
    "        l = line.strip(')\\n').split(' = (')\n",
    "        map_dict[l[0]] = l[1].split(', ')"
   ]
  },
  {
   "cell_type": "code",
   "execution_count": 3,
   "metadata": {},
   "outputs": [
    {
     "data": {
      "text/plain": [
       "19099"
      ]
     },
     "execution_count": 3,
     "metadata": {},
     "output_type": "execute_result"
    }
   ],
   "source": [
    "loc = 'AAA'\n",
    "i = 0\n",
    "cnt = 0\n",
    "while loc != 'ZZZ':\n",
    "    turn = instructions[i]\n",
    "    if turn == 'L':\n",
    "        loc = map_dict[loc][0]\n",
    "    else:\n",
    "        loc = map_dict[loc][1]\n",
    "    i = (i + 1) % p\n",
    "    cnt += 1\n",
    "\n",
    "cnt"
   ]
  },
  {
   "cell_type": "markdown",
   "metadata": {},
   "source": [
    "Part 2"
   ]
  },
  {
   "cell_type": "code",
   "execution_count": 4,
   "metadata": {},
   "outputs": [
    {
     "data": {
      "text/plain": [
       "['HVA', 'LBA', 'FXA', 'GHA', 'PSA', 'AAA']"
      ]
     },
     "execution_count": 4,
     "metadata": {},
     "output_type": "execute_result"
    }
   ],
   "source": [
    "As = []\n",
    "for node in map_dict.keys():\n",
    "    if node[2] == 'A':\n",
    "        As.append(node)\n",
    "\n",
    "As"
   ]
  },
  {
   "cell_type": "code",
   "execution_count": 5,
   "metadata": {},
   "outputs": [
    {
     "data": {
      "text/plain": [
       "['NMZ', 'SJZ', 'GNZ', 'TNZ', 'BNZ', 'ZZZ']"
      ]
     },
     "execution_count": 5,
     "metadata": {},
     "output_type": "execute_result"
    }
   ],
   "source": [
    "Zs = []\n",
    "AtoZ = []\n",
    "for a in As:\n",
    "    loc = a\n",
    "    i = 0\n",
    "    cnt = 0\n",
    "    while loc[2] != 'Z':\n",
    "        turn = instructions[i]\n",
    "        if turn == 'L':\n",
    "            loc = map_dict[loc][0]\n",
    "        else:\n",
    "            loc = map_dict[loc][1]\n",
    "        i = (i + 1) % len(instructions)\n",
    "        cnt += 1\n",
    "    Zs.append(loc)\n",
    "    AtoZ.append(cnt)\n",
    "\n",
    "Zs"
   ]
  },
  {
   "cell_type": "code",
   "execution_count": 6,
   "metadata": {},
   "outputs": [
    {
     "data": {
      "text/plain": [
       "[15871, 16409, 21251, 18023, 12643, 19099]"
      ]
     },
     "execution_count": 6,
     "metadata": {},
     "output_type": "execute_result"
    }
   ],
   "source": [
    "AtoZ"
   ]
  },
  {
   "cell_type": "code",
   "execution_count": 7,
   "metadata": {},
   "outputs": [
    {
     "data": {
      "text/plain": [
       "[0, 0, 0, 0, 0, 0]"
      ]
     },
     "execution_count": 7,
     "metadata": {},
     "output_type": "execute_result"
    }
   ],
   "source": [
    "[x % p for x in AtoZ] # instructions are the same every cycle"
   ]
  },
  {
   "cell_type": "code",
   "execution_count": 8,
   "metadata": {},
   "outputs": [],
   "source": [
    "ZtoZ = []\n",
    "for z in Zs:\n",
    "    loc = z\n",
    "    i = 0\n",
    "    cnt = 0\n",
    "    while True:\n",
    "        turn = instructions[i]\n",
    "        if turn == 'L':\n",
    "            loc = map_dict[loc][0]\n",
    "        else:\n",
    "            loc = map_dict[loc][1]\n",
    "        i = (i + 1) % len(instructions)\n",
    "        cnt += 1\n",
    "        if loc[2] == 'Z':\n",
    "            break\n",
    "    ZtoZ.append(cnt)"
   ]
  },
  {
   "cell_type": "code",
   "execution_count": 9,
   "metadata": {},
   "outputs": [
    {
     "data": {
      "text/plain": [
       "[15871, 16409, 21251, 18023, 12643, 19099]"
      ]
     },
     "execution_count": 9,
     "metadata": {},
     "output_type": "execute_result"
    }
   ],
   "source": [
    "ZtoZ # same as AtoZ"
   ]
  },
  {
   "cell_type": "code",
   "execution_count": 10,
   "metadata": {},
   "outputs": [
    {
     "data": {
      "text/plain": [
       "17099847107071"
      ]
     },
     "execution_count": 10,
     "metadata": {},
     "output_type": "execute_result"
    }
   ],
   "source": [
    "from math import lcm\n",
    "\n",
    "lcm(*AtoZ)"
   ]
  },
  {
   "cell_type": "code",
   "execution_count": null,
   "metadata": {},
   "outputs": [],
   "source": []
  }
 ],
 "metadata": {
  "kernelspec": {
   "display_name": "base",
   "language": "python",
   "name": "python3"
  },
  "language_info": {
   "codemirror_mode": {
    "name": "ipython",
    "version": 3
   },
   "file_extension": ".py",
   "mimetype": "text/x-python",
   "name": "python",
   "nbconvert_exporter": "python",
   "pygments_lexer": "ipython3",
   "version": "3.9.12"
  },
  "orig_nbformat": 4
 },
 "nbformat": 4,
 "nbformat_minor": 2
}
