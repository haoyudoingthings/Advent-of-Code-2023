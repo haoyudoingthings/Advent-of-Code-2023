{
 "cells": [
  {
   "cell_type": "markdown",
   "metadata": {},
   "source": [
    "Part 1"
   ]
  },
  {
   "cell_type": "code",
   "execution_count": 2,
   "metadata": {},
   "outputs": [],
   "source": [
    "rules = dict()\n",
    "with open(\"../input/day19/day19-1.txt\") as f1:\n",
    "    for line in f1:\n",
    "        l = line.strip('}\\n').split('{')\n",
    "        rules[l[0]] = l[1]"
   ]
  },
  {
   "cell_type": "code",
   "execution_count": 3,
   "metadata": {},
   "outputs": [
    {
     "data": {
      "text/plain": [
       "353553"
      ]
     },
     "execution_count": 3,
     "metadata": {},
     "output_type": "execute_result"
    }
   ],
   "source": [
    "ans = 0\n",
    "with open(\"../input/day19/day19-2.txt\") as f2:\n",
    "    for line in f2:\n",
    "        l = line.strip('}\\n').strip('{').split(',')\n",
    "        x = int(l[0][2:])\n",
    "        m = int(l[1][2:])\n",
    "        a = int(l[2][2:])\n",
    "        s = int(l[3][2:])\n",
    "\n",
    "        cur = \"in\"\n",
    "        while cur != 'A' and cur != 'R':\n",
    "            for rule in rules[cur].split(','):\n",
    "                if ':' not in rule:\n",
    "                    cur = rule\n",
    "                else:\n",
    "                    r0 = rule.split(':')[0]\n",
    "                    r1 = rule.split(':')[1]\n",
    "                    if eval(r0):\n",
    "                        cur = r1\n",
    "                        break\n",
    "        \n",
    "        if cur == 'A':\n",
    "            ans += x + m + a + s\n",
    "\n",
    "ans"
   ]
  },
  {
   "cell_type": "markdown",
   "metadata": {},
   "source": [
    "Part 2"
   ]
  },
  {
   "cell_type": "code",
   "execution_count": 11,
   "metadata": {},
   "outputs": [],
   "source": [
    "rules = dict()\n",
    "with open(\"../input/day19/day19-1.txt\") as f1:\n",
    "    for line in f1:\n",
    "        l = line.strip('}\\n').split('{')\n",
    "        rules[l[0]] = l[1]"
   ]
  },
  {
   "cell_type": "code",
   "execution_count": 13,
   "metadata": {},
   "outputs": [
    {
     "ename": "MemoryError",
     "evalue": "",
     "output_type": "error",
     "traceback": [
      "\u001b[1;31m---------------------------------------------------------------------------\u001b[0m",
      "\u001b[1;31mMemoryError\u001b[0m                               Traceback (most recent call last)",
      "\u001b[1;32mc:\\Users\\Haoyu\\Documents\\GitHub\\Advent-of-Code-2023\\notebooks\\day19.ipynb Cell 6\u001b[0m line \u001b[0;36m6\n\u001b[0;32m      <a href='vscode-notebook-cell:/c%3A/Users/Haoyu/Documents/GitHub/Advent-of-Code-2023/notebooks/day19.ipynb#X13sZmlsZQ%3D%3D?line=3'>4</a>\u001b[0m         \u001b[39mfor\u001b[39;00m a \u001b[39min\u001b[39;00m \u001b[39mrange\u001b[39m(\u001b[39m1\u001b[39m, \u001b[39m4001\u001b[39m):\n\u001b[0;32m      <a href='vscode-notebook-cell:/c%3A/Users/Haoyu/Documents/GitHub/Advent-of-Code-2023/notebooks/day19.ipynb#X13sZmlsZQ%3D%3D?line=4'>5</a>\u001b[0m             \u001b[39mfor\u001b[39;00m s \u001b[39min\u001b[39;00m \u001b[39mrange\u001b[39m(\u001b[39m1\u001b[39m, \u001b[39m4001\u001b[39m):\n\u001b[1;32m----> <a href='vscode-notebook-cell:/c%3A/Users/Haoyu/Documents/GitHub/Advent-of-Code-2023/notebooks/day19.ipynb#X13sZmlsZQ%3D%3D?line=5'>6</a>\u001b[0m                 args\u001b[39m.\u001b[39;49mappend((x, m, a, s))\n\u001b[0;32m      <a href='vscode-notebook-cell:/c%3A/Users/Haoyu/Documents/GitHub/Advent-of-Code-2023/notebooks/day19.ipynb#X13sZmlsZQ%3D%3D?line=7'>8</a>\u001b[0m \u001b[39mdef\u001b[39;00m \u001b[39mfun\u001b[39m(args):\n\u001b[0;32m      <a href='vscode-notebook-cell:/c%3A/Users/Haoyu/Documents/GitHub/Advent-of-Code-2023/notebooks/day19.ipynb#X13sZmlsZQ%3D%3D?line=8'>9</a>\u001b[0m     x, m, a, s \u001b[39m=\u001b[39m args\n",
      "\u001b[1;31mMemoryError\u001b[0m: "
     ]
    }
   ],
   "source": [
    "args = []\n",
    "for x in range(1, 4001):\n",
    "    for m in range(1, 4001):\n",
    "        for a in range(1, 4001):\n",
    "            for s in range(1, 4001):\n",
    "                args.append((x, m, a, s))\n",
    "\n",
    "def fun(args):\n",
    "    x, m, a, s = args\n",
    "\n",
    "    cur = \"in\"\n",
    "    while cur != 'A' and cur != 'R':\n",
    "        for rule in rules[cur].split(','):\n",
    "            if ':' not in rule:\n",
    "                cur = rule\n",
    "            else:\n",
    "                r0 = rule.split(':')[0]\n",
    "                r1 = rule.split(':')[1]\n",
    "                if eval(r0):\n",
    "                    cur = r1\n",
    "                    break\n",
    "\n",
    "    return cur == 'A'"
   ]
  },
  {
   "cell_type": "code",
   "execution_count": null,
   "metadata": {},
   "outputs": [],
   "source": []
  }
 ],
 "metadata": {
  "kernelspec": {
   "display_name": "base",
   "language": "python",
   "name": "python3"
  },
  "language_info": {
   "codemirror_mode": {
    "name": "ipython",
    "version": 3
   },
   "file_extension": ".py",
   "mimetype": "text/x-python",
   "name": "python",
   "nbconvert_exporter": "python",
   "pygments_lexer": "ipython3",
   "version": "3.9.12"
  },
  "orig_nbformat": 4
 },
 "nbformat": 4,
 "nbformat_minor": 2
}
