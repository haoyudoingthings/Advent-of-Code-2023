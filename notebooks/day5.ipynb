{
 "cells": [
  {
   "cell_type": "markdown",
   "metadata": {},
   "source": [
    "Part 1"
   ]
  },
  {
   "cell_type": "code",
   "execution_count": 4,
   "metadata": {},
   "outputs": [
    {
     "data": {
      "text/plain": [
       "174137457"
      ]
     },
     "execution_count": 4,
     "metadata": {},
     "output_type": "execute_result"
    }
   ],
   "source": [
    "with open(\"../input/day5/seeds.txt\") as f:\n",
    "    seeds = [int(x) for x in f.read().split()]\n",
    "\n",
    "for m in range(1, 8):\n",
    "    mapped = [False] * len(seeds)\n",
    "    with open(f\"../input/day5/map{m}.txt\") as f:\n",
    "        for line in f.readlines():\n",
    "            l = [int(x) for x in line.strip().split()]\n",
    "            for i in range(len(seeds)):\n",
    "                if not mapped[i] and l[1] <= seeds[i] < l[1] + l[2]:\n",
    "                    seeds[i] += l[0] - l[1]\n",
    "                    mapped[i] = True\n",
    "\n",
    "min(seeds)"
   ]
  },
  {
   "cell_type": "markdown",
   "metadata": {},
   "source": [
    "Part 2"
   ]
  },
  {
   "cell_type": "code",
   "execution_count": 9,
   "metadata": {},
   "outputs": [
    {
     "data": {
      "text/plain": [
       "1493866"
      ]
     },
     "execution_count": 9,
     "metadata": {},
     "output_type": "execute_result"
    }
   ],
   "source": [
    "with open(\"../input/day5/seeds.txt\") as f:\n",
    "    seeds = [int(x) for x in f.read().split()]\n",
    "seed_ranges = [(a, b) for a, b in zip(seeds[::2], seeds[1::2])]\n",
    "\n",
    "def num_in_seeds(n):\n",
    "    for s, r in seed_ranges:\n",
    "        if s <= n < s + r:\n",
    "            return True\n",
    "    return False\n",
    "\n",
    "txt_lst = []\n",
    "for m in range(1, 8):\n",
    "    with open(f\"../input/day5/map{m}.txt\") as f:\n",
    "        txt_lst.append([[int(x) for x in line.strip().split()] for line in f.readlines()])\n",
    "\n",
    "loc = 0\n",
    "while True:\n",
    "    seed = loc\n",
    "    for m in range(6, -1, -1):\n",
    "        for l in txt_lst[m]:\n",
    "            if l[0] <= seed < l[0] + l[2]:\n",
    "                seed += l[1] - l[0]\n",
    "                break\n",
    "    \n",
    "    if num_in_seeds(seed):\n",
    "        break\n",
    "    loc += 1\n",
    "\n",
    "loc"
   ]
  },
  {
   "cell_type": "code",
   "execution_count": null,
   "metadata": {},
   "outputs": [],
   "source": []
  }
 ],
 "metadata": {
  "kernelspec": {
   "display_name": "base",
   "language": "python",
   "name": "python3"
  },
  "language_info": {
   "codemirror_mode": {
    "name": "ipython",
    "version": 3
   },
   "file_extension": ".py",
   "mimetype": "text/x-python",
   "name": "python",
   "nbconvert_exporter": "python",
   "pygments_lexer": "ipython3",
   "version": "3.9.12"
  }
 },
 "nbformat": 4,
 "nbformat_minor": 2
}
