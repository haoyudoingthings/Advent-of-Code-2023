{
 "cells": [
  {
   "cell_type": "markdown",
   "metadata": {},
   "source": [
    "Part 1"
   ]
  },
  {
   "cell_type": "code",
   "execution_count": 3,
   "metadata": {},
   "outputs": [
    {
     "data": {
      "text/plain": [
       "26218"
      ]
     },
     "execution_count": 3,
     "metadata": {},
     "output_type": "execute_result"
    }
   ],
   "source": [
    "ans = 0\n",
    "with open(\"../input/day4.txt\") as f:\n",
    "    for line in f.readlines():\n",
    "        line = line.strip().split(': ')[1]\n",
    "        win_nums = [int(x) for x in line.split(' | ')[0].split()]\n",
    "        my_nums = [int(x) for x in line.split(' | ')[1].split()]\n",
    "        cur_cnt = 0\n",
    "        for n in my_nums:\n",
    "            if n in win_nums:\n",
    "                cur_cnt += 1\n",
    "        if cur_cnt > 0:\n",
    "            ans += 2**(cur_cnt-1)\n",
    "ans"
   ]
  },
  {
   "cell_type": "markdown",
   "metadata": {},
   "source": [
    "Part 2"
   ]
  },
  {
   "cell_type": "code",
   "execution_count": 4,
   "metadata": {},
   "outputs": [
    {
     "data": {
      "text/plain": [
       "9997537"
      ]
     },
     "execution_count": 4,
     "metadata": {},
     "output_type": "execute_result"
    }
   ],
   "source": [
    "cards = [1] * 201\n",
    "with open(\"../input/day4.txt\") as f:\n",
    "    for i, line in enumerate(f.readlines()):\n",
    "        line = line.strip().split(': ')[1]\n",
    "        win_nums = [int(x) for x in line.split(' | ')[0].split()]\n",
    "        my_nums = [int(x) for x in line.split(' | ')[1].split()]\n",
    "        cur_cnt = 0\n",
    "        for n in my_nums:\n",
    "            if n in win_nums:\n",
    "                cur_cnt += 1\n",
    "        for j in range(i+1, min(i+1 + cur_cnt, 201)):\n",
    "            cards[j] += cards[i]\n",
    "sum(cards)"
   ]
  },
  {
   "cell_type": "code",
   "execution_count": null,
   "metadata": {},
   "outputs": [],
   "source": []
  }
 ],
 "metadata": {
  "kernelspec": {
   "display_name": "base",
   "language": "python",
   "name": "python3"
  },
  "language_info": {
   "codemirror_mode": {
    "name": "ipython",
    "version": 3
   },
   "file_extension": ".py",
   "mimetype": "text/x-python",
   "name": "python",
   "nbconvert_exporter": "python",
   "pygments_lexer": "ipython3",
   "version": "3.9.12"
  },
  "orig_nbformat": 4
 },
 "nbformat": 4,
 "nbformat_minor": 2
}
