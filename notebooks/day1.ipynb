{
 "cells": [
  {
   "cell_type": "markdown",
   "metadata": {},
   "source": [
    "Part 1"
   ]
  },
  {
   "cell_type": "code",
   "execution_count": 1,
   "metadata": {},
   "outputs": [
    {
     "data": {
      "text/plain": [
       "55712"
      ]
     },
     "execution_count": 1,
     "metadata": {},
     "output_type": "execute_result"
    }
   ],
   "source": [
    "ans = 0\n",
    "with open(\"../input/day1.txt\") as f:\n",
    "    for line in f.readlines():\n",
    "        for c in line:\n",
    "            if c in \"0123456789\":\n",
    "                ans += int(c) * 10\n",
    "                break\n",
    "        for c in line[::-1]:\n",
    "            if c in \"0123456789\":\n",
    "                ans += int(c)\n",
    "                break\n",
    "ans"
   ]
  },
  {
   "cell_type": "markdown",
   "metadata": {},
   "source": [
    "Part 2"
   ]
  },
  {
   "cell_type": "code",
   "execution_count": 4,
   "metadata": {},
   "outputs": [
    {
     "data": {
      "text/plain": [
       "55413"
      ]
     },
     "execution_count": 4,
     "metadata": {},
     "output_type": "execute_result"
    }
   ],
   "source": [
    "ans = 0\n",
    "digits = {'one': 1, 'two': 2, 'three': 3, 'four': 4, 'five': 5, 'six': 6, 'seven': 7, 'eight': 8, 'nine': 9}\n",
    "with open(\"../input/day1.txt\") as f:\n",
    "    for l, line in enumerate(f.readlines()):\n",
    "        for i in range(len(line)):\n",
    "            if line[i] in \"0123456789\":\n",
    "                ans += int(line[i]) * 10\n",
    "                break\n",
    "            elif line[i:i+3] in digits:\n",
    "                ans += digits[line[i:i+3]] * 10\n",
    "                break\n",
    "            elif line[i:i+4] in digits:\n",
    "                ans += digits[line[i:i+4]] * 10\n",
    "                break\n",
    "            elif line[i:i+5] in digits:\n",
    "                ans += digits[line[i:i+5]] * 10\n",
    "                break\n",
    "        for i in range(len(line)-1, -1, -1):\n",
    "            if line[i] in \"0123456789\":\n",
    "                ans += int(line[i])\n",
    "                break\n",
    "            elif i <= len(line) - 3 and line[i:i+3] in digits:\n",
    "                ans += digits[line[i:i+3]] \n",
    "                break\n",
    "            elif i <= len(line) - 4 and line[i:i+4] in digits:\n",
    "                ans += digits[line[i:i+4]] \n",
    "                break\n",
    "            elif i <= len(line) - 5 and line[i:i+5] in digits:\n",
    "                ans += digits[line[i:i+5]] \n",
    "                break\n",
    "ans"
   ]
  },
  {
   "cell_type": "code",
   "execution_count": null,
   "metadata": {},
   "outputs": [],
   "source": []
  }
 ],
 "metadata": {
  "kernelspec": {
   "display_name": "base",
   "language": "python",
   "name": "python3"
  },
  "language_info": {
   "codemirror_mode": {
    "name": "ipython",
    "version": 3
   },
   "file_extension": ".py",
   "mimetype": "text/x-python",
   "name": "python",
   "nbconvert_exporter": "python",
   "pygments_lexer": "ipython3",
   "version": "3.9.12"
  },
  "orig_nbformat": 4
 },
 "nbformat": 4,
 "nbformat_minor": 2
}
