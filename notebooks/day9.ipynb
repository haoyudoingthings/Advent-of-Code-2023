{
 "cells": [
  {
   "cell_type": "markdown",
   "metadata": {},
   "source": [
    "Part 1"
   ]
  },
  {
   "cell_type": "code",
   "execution_count": 9,
   "metadata": {},
   "outputs": [
    {
     "data": {
      "text/plain": [
       "1798691765"
      ]
     },
     "execution_count": 9,
     "metadata": {},
     "output_type": "execute_result"
    }
   ],
   "source": [
    "ans = 0\n",
    "with open(\"../input/day9.txt\") as f:\n",
    "    for line in f.readlines():\n",
    "        series = [[int(x) for x in line.strip().split()]]\n",
    "        while any(series[-1]):\n",
    "            ans += series[-1][-1]\n",
    "            series.append([series[-1][i+1] - series[-1][i] for i in range(len(series[-1])-1)])\n",
    "ans"
   ]
  },
  {
   "cell_type": "markdown",
   "metadata": {},
   "source": [
    "Part 2"
   ]
  },
  {
   "cell_type": "code",
   "execution_count": 11,
   "metadata": {},
   "outputs": [
    {
     "data": {
      "text/plain": [
       "1104"
      ]
     },
     "execution_count": 11,
     "metadata": {},
     "output_type": "execute_result"
    }
   ],
   "source": [
    "ans = 0\n",
    "with open(\"../input/day9.txt\") as f:\n",
    "    for line in f.readlines():\n",
    "        series = [[int(x) for x in line.strip().split()]]\n",
    "        cnt = 0\n",
    "        while any(series[-1]):\n",
    "            ans += (-1)**cnt * series[-1][0]\n",
    "            cnt += 1\n",
    "            series.append([series[-1][i+1] - series[-1][i] for i in range(len(series[-1])-1)])\n",
    "ans"
   ]
  },
  {
   "cell_type": "code",
   "execution_count": null,
   "metadata": {},
   "outputs": [],
   "source": []
  }
 ],
 "metadata": {
  "kernelspec": {
   "display_name": "base",
   "language": "python",
   "name": "python3"
  },
  "language_info": {
   "codemirror_mode": {
    "name": "ipython",
    "version": 3
   },
   "file_extension": ".py",
   "mimetype": "text/x-python",
   "name": "python",
   "nbconvert_exporter": "python",
   "pygments_lexer": "ipython3",
   "version": "3.9.12"
  },
  "orig_nbformat": 4
 },
 "nbformat": 4,
 "nbformat_minor": 2
}
