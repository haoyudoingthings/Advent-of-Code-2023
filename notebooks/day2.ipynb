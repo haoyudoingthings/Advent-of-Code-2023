{
 "cells": [
  {
   "cell_type": "markdown",
   "metadata": {},
   "source": [
    "Part 1"
   ]
  },
  {
   "cell_type": "code",
   "execution_count": 4,
   "metadata": {},
   "outputs": [
    {
     "data": {
      "text/plain": [
       "2913"
      ]
     },
     "execution_count": 4,
     "metadata": {},
     "output_type": "execute_result"
    }
   ],
   "source": [
    "max_color = {\"red\": 12, \"green\": 13, \"blue\": 14}\n",
    "id_sum = 0\n",
    "with open(\"../input/day2.txt\") as f:\n",
    "    for line in f.readlines():\n",
    "        game, sets = line.strip().split(': ')\n",
    "        id = int(game[5:])\n",
    "        sets = sets.split('; ')\n",
    "        exceed_limit_flg = False\n",
    "        for set in sets:\n",
    "            for num_color in set.split(', '):\n",
    "                num = int(num_color.split(' ')[0])\n",
    "                color = num_color.split(' ')[1]\n",
    "                if num > max_color[color]:\n",
    "                    exceed_limit_flg = True\n",
    "                    break\n",
    "            if exceed_limit_flg:\n",
    "                break\n",
    "        else:\n",
    "            id_sum += id\n",
    "id_sum"
   ]
  },
  {
   "cell_type": "markdown",
   "metadata": {},
   "source": [
    "Part 2"
   ]
  },
  {
   "cell_type": "code",
   "execution_count": 5,
   "metadata": {},
   "outputs": [
    {
     "data": {
      "text/plain": [
       "55593"
      ]
     },
     "execution_count": 5,
     "metadata": {},
     "output_type": "execute_result"
    }
   ],
   "source": [
    "from collections import defaultdict\n",
    "power_sum = 0\n",
    "with open(\"../input/day2.txt\") as f:\n",
    "    for line in f.readlines():\n",
    "        sets = line.strip().split(': ')[1].split('; ')\n",
    "        exceed_limit_flg = False\n",
    "        min_color_num = defaultdict(int)\n",
    "        for set in sets:\n",
    "            for num_color in set.split(', '):\n",
    "                num = int(num_color.split(' ')[0])\n",
    "                color = num_color.split(' ')[1]\n",
    "                min_color_num[color] = max(min_color_num[color], num)\n",
    "        power = 1\n",
    "        for val in min_color_num.values():\n",
    "            power *= val\n",
    "        power_sum += power\n",
    "power_sum"
   ]
  },
  {
   "cell_type": "code",
   "execution_count": null,
   "metadata": {},
   "outputs": [],
   "source": []
  }
 ],
 "metadata": {
  "kernelspec": {
   "display_name": "base",
   "language": "python",
   "name": "python3"
  },
  "language_info": {
   "codemirror_mode": {
    "name": "ipython",
    "version": 3
   },
   "file_extension": ".py",
   "mimetype": "text/x-python",
   "name": "python",
   "nbconvert_exporter": "python",
   "pygments_lexer": "ipython3",
   "version": "3.9.12"
  }
 },
 "nbformat": 4,
 "nbformat_minor": 2
}
